{
 "cells": [
  {
   "cell_type": "markdown",
   "metadata": {},
   "source": [
    "# My practice programs\n"
   ]
  },
  {
   "cell_type": "code",
   "execution_count": 67,
   "metadata": {},
   "outputs": [
    {
     "name": "stdout",
     "output_type": "stream",
     "text": [
      "my practice programs\n"
     ]
    }
   ],
   "source": [
    "print(\"my practice programs\")\n"
   ]
  },
  {
   "cell_type": "code",
   "execution_count": 68,
   "metadata": {},
   "outputs": [
    {
     "name": "stdout",
     "output_type": "stream",
     "text": [
      "Asiv\n",
      "Asiv\n"
     ]
    }
   ],
   "source": [
    "name = \"Asiv\"  #string\n",
    "print(name)\n",
    "name = 'Asiv'  #string\n",
    "print(name)"
   ]
  },
  {
   "cell_type": "code",
   "execution_count": 69,
   "metadata": {},
   "outputs": [
    {
     "name": "stdout",
     "output_type": "stream",
     "text": [
      "A\n"
     ]
    }
   ],
   "source": [
    "name = 'A'     #char\n",
    "print(name)"
   ]
  },
  {
   "cell_type": "code",
   "execution_count": 70,
   "metadata": {},
   "outputs": [
    {
     "name": "stdout",
     "output_type": "stream",
     "text": [
      "2\n"
     ]
    }
   ],
   "source": [
    "i = 2        #integer\n",
    "print(i)"
   ]
  },
  {
   "cell_type": "code",
   "execution_count": 71,
   "metadata": {},
   "outputs": [
    {
     "name": "stdout",
     "output_type": "stream",
     "text": [
      "2.03\n"
     ]
    }
   ],
   "source": [
    "f = 2.03     #float\n",
    "print(f)"
   ]
  },
  {
   "cell_type": "code",
   "execution_count": 72,
   "metadata": {},
   "outputs": [
    {
     "name": "stdout",
     "output_type": "stream",
     "text": [
      "<class 'int'>\n",
      "<class 'float'>\n",
      "1509128352\n",
      "1913854067384\n"
     ]
    }
   ],
   "source": [
    "a=100\n",
    "b=10.5\n",
    "print(type(a))    \n",
    "print(type(b))   #without  print  command for both a n b  only type b  is  shown at output:  float\n",
    "print(id(a))        # for address\n",
    "print(id(b))\n",
    "\n"
   ]
  },
  {
   "cell_type": "code",
   "execution_count": 73,
   "metadata": {},
   "outputs": [
    {
     "name": "stdout",
     "output_type": "stream",
     "text": [
      "110.5\n",
      "1913854067336\n"
     ]
    }
   ],
   "source": [
    "c=a+b\n",
    "print(c)\n",
    "print(id(c))\n",
    "\n"
   ]
  },
  {
   "cell_type": "code",
   "execution_count": 74,
   "metadata": {},
   "outputs": [
    {
     "name": "stdout",
     "output_type": "stream",
     "text": [
      "100\n",
      "100\n"
     ]
    },
    {
     "data": {
      "text/plain": [
       "int"
      ]
     },
     "execution_count": 74,
     "metadata": {},
     "output_type": "execute_result"
    }
   ],
   "source": [
    "b=a   # value  of a  is placed in b .both integer a  and  float b becomes  100  here b's pointer is shifted to a so b=integer\n",
    "print(b)\n",
    "print(a)\n",
    "type(b)"
   ]
  },
  {
   "cell_type": "code",
   "execution_count": 75,
   "metadata": {},
   "outputs": [
    {
     "name": "stdout",
     "output_type": "stream",
     "text": [
      "10.5\n",
      "10.5\n"
     ]
    },
    {
     "data": {
      "text/plain": [
       "float"
      ]
     },
     "execution_count": 75,
     "metadata": {},
     "output_type": "execute_result"
    }
   ],
   "source": [
    "d=50 # value  of e  is placed in d. both integer d  and  float e becomes  10.5 here e's pointer is shifted to d so d=fload\n",
    "e= 10.5\n",
    "d=e\n",
    "print(d)\n",
    "print(e)\n",
    "type(d)"
   ]
  },
  {
   "cell_type": "code",
   "execution_count": 76,
   "metadata": {},
   "outputs": [
    {
     "name": "stdout",
     "output_type": "stream",
     "text": [
      "21\n"
     ]
    },
    {
     "data": {
      "text/plain": [
       "str"
      ]
     },
     "execution_count": 76,
     "metadata": {},
     "output_type": "execute_result"
    }
   ],
   "source": [
    "# adding integer   and  character ie concatenating  integer and character  \n",
    "num1 = 2\n",
    "num2 ='1'\n",
    "sum= str(num1)+num2  # cast one of them\n",
    "print(sum)\n",
    "type(sum)"
   ]
  },
  {
   "cell_type": "code",
   "execution_count": 77,
   "metadata": {},
   "outputs": [
    {
     "name": "stdout",
     "output_type": "stream",
     "text": [
      "2my name\n"
     ]
    },
    {
     "data": {
      "text/plain": [
       "str"
      ]
     },
     "execution_count": 77,
     "metadata": {},
     "output_type": "execute_result"
    }
   ],
   "source": [
    "# concatenating  integer and string ie integer  to string . is  string to integer possible?  \n",
    "num1 = 2\n",
    "num2 ='my name'\n",
    "sum= str(num1)+num2  \n",
    "#sum= str(num2)+num1  \n",
    "print(sum)\n",
    "type(sum)"
   ]
  },
  {
   "cell_type": "code",
   "execution_count": 78,
   "metadata": {},
   "outputs": [
    {
     "name": "stdout",
     "output_type": "stream",
     "text": [
      "a  my name\n"
     ]
    },
    {
     "data": {
      "text/plain": [
       "str"
      ]
     },
     "execution_count": 78,
     "metadata": {},
     "output_type": "execute_result"
    }
   ],
   "source": [
    "# concatenating  char and string\n",
    "num1 = 'a'\n",
    "num2 ='  my name'\n",
    "sum= num1+ num2  # no need of casting\n",
    "print(sum)\n",
    "type(sum)"
   ]
  },
  {
   "cell_type": "code",
   "execution_count": 79,
   "metadata": {},
   "outputs": [
    {
     "name": "stdout",
     "output_type": "stream",
     "text": [
      "a b\n"
     ]
    },
    {
     "data": {
      "text/plain": [
       "str"
      ]
     },
     "execution_count": 79,
     "metadata": {},
     "output_type": "execute_result"
    }
   ],
   "source": [
    "# concatenating  char and char   also string +string will be same  two  \n",
    "num1 = 'a'\n",
    "num2 =' b'\n",
    "sum= num1+ num2  # no need of casting\n",
    "print(sum)\n",
    "type(sum)"
   ]
  },
  {
   "cell_type": "code",
   "execution_count": 99,
   "metadata": {},
   "outputs": [
    {
     "name": "stdout",
     "output_type": "stream",
     "text": [
      "hello world\n",
      "The sum of 2 plus 2 is 4\n",
      "The sum of 2 plus 2 is 4\n"
     ]
    }
   ],
   "source": [
    "#directly concatenating in print()\n",
    "print(\"hello \" + \"world\")\n",
    "print(\"The sum of 2 plus 2 is \" + \"4\")\n",
    "print(\"The sum \"+\"of 2 plus 2 is \" + \"4\")"
   ]
  },
  {
   "cell_type": "code",
   "execution_count": 80,
   "metadata": {},
   "outputs": [
    {
     "name": "stdout",
     "output_type": "stream",
     "text": [
      "23\n"
     ]
    },
    {
     "data": {
      "text/plain": [
       "int"
      ]
     },
     "execution_count": 80,
     "metadata": {},
     "output_type": "execute_result"
    }
   ],
   "source": [
    "# yes concatenating  integer and string this time string to integer  \n",
    "num1 =  2\n",
    "num2 = '21' \n",
    "#num2 = 'No'        #not possible since  yes  is a string 2No not possible\n",
    "sum= num1+int(num2)  \n",
    " \n",
    "print(sum)\n",
    "type(sum)"
   ]
  },
  {
   "cell_type": "code",
   "execution_count": 81,
   "metadata": {},
   "outputs": [
    {
     "name": "stdout",
     "output_type": "stream",
     "text": [
      "21\n"
     ]
    },
    {
     "data": {
      "text/plain": [
       "int"
      ]
     },
     "execution_count": 81,
     "metadata": {},
     "output_type": "execute_result"
    }
   ],
   "source": [
    " #converting  string to  integer\n",
    "s='21'   \n",
    "p=(int(s))\n",
    "print(p)\n",
    "type(p)    # or print(type(p)) will produce <class 'int'>\n",
    "\n"
   ]
  },
  {
   "cell_type": "code",
   "execution_count": 83,
   "metadata": {},
   "outputs": [
    {
     "name": "stdout",
     "output_type": "stream",
     "text": [
      "21.2\n"
     ]
    },
    {
     "data": {
      "text/plain": [
       "float"
      ]
     },
     "execution_count": 83,
     "metadata": {},
     "output_type": "execute_result"
    }
   ],
   "source": [
    "#converting  string to  float\n",
    "s='21.2'\n",
    "p=(float(s))\n",
    "print(p)\n",
    "type(p)    # or print(type(p)) will produce <class 'int'>\n"
   ]
  },
  {
   "cell_type": "code",
   "execution_count": 88,
   "metadata": {},
   "outputs": [
    {
     "name": "stdout",
     "output_type": "stream",
     "text": [
      "0.7\n"
     ]
    },
    {
     "data": {
      "text/plain": [
       "float"
      ]
     },
     "execution_count": 88,
     "metadata": {},
     "output_type": "execute_result"
    }
   ],
   "source": [
    "a=70\n",
    "b=100\n",
    "marks =a/b   \n",
    "#marks =b/a   \n",
    "print(marks)\n",
    "type(marks)\n"
   ]
  },
  {
   "cell_type": "code",
   "execution_count": 91,
   "metadata": {},
   "outputs": [
    {
     "name": "stdout",
     "output_type": "stream",
     "text": [
      "1.0\n",
      "1\n"
     ]
    },
    {
     "data": {
      "text/plain": [
       "float"
      ]
     },
     "execution_count": 91,
     "metadata": {},
     "output_type": "execute_result"
    }
   ],
   "source": [
    "a=100\n",
    "b=100\n",
    "marks =a/b   #result will always be in float even  when  a and b are same \n",
    "print(marks)\n",
    "print(int(marks)) #after decimal values  are removed\n",
    "type(marks)    #still  float"
   ]
  },
  {
   "cell_type": "code",
   "execution_count": 106,
   "metadata": {},
   "outputs": [
    {
     "name": "stdout",
     "output_type": "stream",
     "text": [
      "1\n",
      "0\n",
      "0\n"
     ]
    }
   ],
   "source": [
    "# chap6: Math expressions: Unfamiliar operators\n",
    "a=10\n",
    "b=3\n",
    "c1=a%b\n",
    "c2=b%c\n",
    "c3=a%10\n",
    "print(c1)\n",
    "print(c2)\n",
    "print(c3)"
   ]
  },
  {
   "cell_type": "code",
   "execution_count": 116,
   "metadata": {},
   "outputs": [
    {
     "name": "stdout",
     "output_type": "stream",
     "text": [
      "1\n",
      "0\n",
      "0\n",
      "11\n",
      "2\n",
      "6\n",
      "5\n",
      "-6\n"
     ]
    }
   ],
   "source": [
    "a=10\n",
    "b=3\n",
    "c1=a%b\n",
    "print(c1)\n",
    "c2=b%c\n",
    "print(c2)\n",
    "c3=a%10\n",
    "print(c3)\n",
    "\n",
    "a+=1  # a=a+1 now the value of has been changed\n",
    "print(a)\n",
    "b-=1  # b=b-1 now the value of has been changed\n",
    "print(b)\n",
    "b*=3\n",
    "print(b) # b=b*3 now the value of has been changed again 6=2*3\n",
    "b-=1  # b=b-1 now the value of has been changed 5=6-1\n",
    "print(b)\n",
    "b-=a  # b=b-1 now the value of has been changed    b=b(new value)-a   ie  -6=5-11\n",
    "print(b)\n"
   ]
  },
  {
   "cell_type": "code",
   "execution_count": 118,
   "metadata": {},
   "outputs": [
    {
     "name": "stdout",
     "output_type": "stream",
     "text": [
      "14\n",
      "20\n"
     ]
    }
   ],
   "source": [
    "a=2+3*4\n",
    "print(a)\n",
    "a=(2+3)*4\n",
    "print(a)\n"
   ]
  },
  {
   "cell_type": "code",
   "execution_count": 126,
   "metadata": {},
   "outputs": [
    {
     "name": "stdout",
     "output_type": "stream",
     "text": [
      "Ok , It will be done  by tomorrow.\n"
     ]
    }
   ],
   "source": [
    "#if else elif statements\n",
    "tell_me= 'yes'\n",
    "\n",
    "if tell_me == \"yes\": #avoid writing  print command exactly below the if statement,keep it  slightly on the right\n",
    " print(\"Ok , It will be done  by tomorrow.\")"
   ]
  },
  {
   "cell_type": "code",
   "execution_count": 130,
   "metadata": {},
   "outputs": [
    {
     "name": "stdout",
     "output_type": "stream",
     "text": [
      "Everything makes sense.\n"
     ]
    }
   ],
   "source": [
    "if 2 + 2 == 4:\n",
    "#if 2 + 3 == 4:    no output no error\n",
    " print(\"Everything makes sense.\")  "
   ]
  },
  {
   "cell_type": "code",
   "execution_count": 131,
   "metadata": {},
   "outputs": [
    {
     "ename": "IndentationError",
     "evalue": "unexpected indent (<ipython-input-131-5e567b20ed18>, line 4)",
     "output_type": "error",
     "traceback": [
      "\u001b[1;36m  File \u001b[1;32m\"<ipython-input-131-5e567b20ed18>\"\u001b[1;36m, line \u001b[1;32m4\u001b[0m\n\u001b[1;33m    else\u001b[0m\n\u001b[1;37m    ^\u001b[0m\n\u001b[1;31mIndentationError\u001b[0m\u001b[1;31m:\u001b[0m unexpected indent\n"
     ]
    }
   ],
   "source": [
    "if 2 + 3 == 4:\n",
    "\n",
    " print(\"Everything makes sense.\") \n",
    "    else\n",
    "      print(\"Nothing makes sense.\") "
   ]
  },
  {
   "cell_type": "code",
   "execution_count": null,
   "metadata": {},
   "outputs": [],
   "source": []
  }
 ],
 "metadata": {
  "kernelspec": {
   "display_name": "Python 3",
   "language": "python",
   "name": "python3"
  },
  "language_info": {
   "codemirror_mode": {
    "name": "ipython",
    "version": 3
   },
   "file_extension": ".py",
   "mimetype": "text/x-python",
   "name": "python",
   "nbconvert_exporter": "python",
   "pygments_lexer": "ipython3",
   "version": "3.6.5"
  }
 },
 "nbformat": 4,
 "nbformat_minor": 2
}
