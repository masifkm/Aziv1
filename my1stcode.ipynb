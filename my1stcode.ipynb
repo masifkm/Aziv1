{
 "cells": [
  {
   "cell_type": "code",
   "execution_count": 1,
   "metadata": {},
   "outputs": [
    {
     "name": "stdout",
     "output_type": "stream",
     "text": [
      "Maintenance Amount of  the month June 2018 \n",
      "24500\n",
      "7000\n",
      "5166.666666666667\n"
     ]
    }
   ],
   "source": [
    "print(\"Maintenance Amount of  the month June 2018 \")\n",
    "gate_keepers  = 9500*2\n",
    "electric_bill = 4000\n",
    "building_expenses = 1500 \n",
    "total_expenses_for_the_month=gate_keepers + electric_bill+building_expenses\n",
    "print(total_expenses_for_the_month)\n",
    "Number_of_Vacant_flats = 2\n",
    "Number_of_Defaulters = 1\n",
    "Defaulter_amount = Number_of_Defaulters* 2400\n",
    "Deposit_in_the_safe=35000\n",
    "Amount_given_by_vacant_flats = Number_of_Vacant_flats*3500\n",
    "print(Amount_given_by_vacant_flats)\n",
    "\n",
    "reduced_amount_from_the_total_andtotalperflat= (total_expenses_for_the_month-Amount_given_by_vacant_flats-2000)/3\n",
    "print(reduced_amount_from_the_total_andtotalperflat)\n"
   ]
  },
  {
   "cell_type": "code",
   "execution_count": null,
   "metadata": {},
   "outputs": [],
   "source": []
  }
 ],
 "metadata": {
  "kernelspec": {
   "display_name": "Python 3",
   "language": "python",
   "name": "python3"
  },
  "language_info": {
   "codemirror_mode": {
    "name": "ipython",
    "version": 3
   },
   "file_extension": ".py",
   "mimetype": "text/x-python",
   "name": "python",
   "nbconvert_exporter": "python",
   "pygments_lexer": "ipython3",
   "version": "3.6.5"
  }
 },
 "nbformat": 4,
 "nbformat_minor": 2
}
